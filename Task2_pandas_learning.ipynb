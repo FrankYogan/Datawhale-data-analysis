{
 "cells": [
  {
   "cell_type": "code",
   "execution_count": 2,
   "metadata": {},
   "outputs": [],
   "source": [
    "from __future__ import print_function\n",
    "import numpy as np\n",
    "import pandas as pd"
   ]
  },
  {
   "cell_type": "markdown",
   "metadata": {},
   "source": [
    "### Pandas 数据生成"
   ]
  },
  {
   "cell_type": "code",
   "execution_count": 3,
   "metadata": {},
   "outputs": [
    {
     "name": "stdout",
     "output_type": "stream",
     "text": [
      "\n",
      " 生成序列：\n",
      " 0    1.0\n",
      "1    2.0\n",
      "2    3.0\n",
      "3    NaN\n",
      "4    5.0\n",
      "5    6.0\n",
      "dtype: float64\n"
     ]
    }
   ],
   "source": [
    "s = pd.Series([1, 2, 3, np.nan, 5, 6])\n",
    "print(\"\\n 生成序列：\\n\", s)"
   ]
  },
  {
   "cell_type": "code",
   "execution_count": 4,
   "metadata": {},
   "outputs": [
    {
     "name": "stdout",
     "output_type": "stream",
     "text": [
      "\n",
      " 生成连续日期：\n",
      " DatetimeIndex(['2019-05-20', '2019-05-21', '2019-05-22', '2019-05-23',\n",
      "               '2019-05-24', '2019-05-25'],\n",
      "              dtype='datetime64[ns]', freq='D')\n"
     ]
    }
   ],
   "source": [
    "date = pd.date_range('20190520', periods=6)\n",
    "print(\"\\n 生成连续日期：\\n\", date)"
   ]
  },
  {
   "cell_type": "code",
   "execution_count": 5,
   "metadata": {},
   "outputs": [
    {
     "name": "stdout",
     "output_type": "stream",
     "text": [
      "\n",
      " 生成随机二维矩阵并设置默认行列标题：\n",
      "    0  1   2   3\n",
      "0  0  1   2   3\n",
      "1  4  5   6   7\n",
      "2  8  9  10  11\n"
     ]
    }
   ],
   "source": [
    "df = pd.DataFrame(np.arange(12).reshape(3, 4))\n",
    "print(\"\\n 生成随机二维矩阵并设置默认行列标题：\\n\", df)"
   ]
  },
  {
   "cell_type": "code",
   "execution_count": 6,
   "metadata": {},
   "outputs": [
    {
     "name": "stdout",
     "output_type": "stream",
     "text": [
      "\n",
      " 生成随机二维矩阵并设置行列标题：\n",
      "                    a         b         c         d\n",
      "2019-05-20  0.113994  0.098927 -1.126848  1.453379\n",
      "2019-05-21  0.905360 -0.733587  0.693714  1.245601\n",
      "2019-05-22 -0.152723 -0.329269 -1.125867 -0.723611\n",
      "2019-05-23  0.390933 -0.166435  0.294369 -1.120636\n",
      "2019-05-24  1.958263  1.018412 -0.493184 -0.340827\n",
      "2019-05-25  0.394073  0.000110 -0.310317 -0.367956\n"
     ]
    }
   ],
   "source": [
    "df1 = pd.DataFrame(np.random.randn(6, 4), index=date, columns=['a', 'b', 'c', 'd'])\n",
    "print(\"\\n 生成随机二维矩阵并设置行列标题：\\n\", df1)"
   ]
  },
  {
   "cell_type": "code",
   "execution_count": 7,
   "metadata": {
    "scrolled": false
   },
   "outputs": [
    {
     "name": "stdout",
     "output_type": "stream",
     "text": [
      "\n",
      " 生成指定二维矩阵并设置行列标题：\n",
      "      A          B    C  D      E    F\n",
      "0  1.0 2013-01-02  1.0  3   test  foo\n",
      "1  1.0 2013-01-02  1.0  3  train  foo\n",
      "2  1.0 2013-01-02  1.0  3   test  foo\n",
      "3  1.0 2013-01-02  1.0  3  train  foo\n",
      "\n",
      " 行标题：\n",
      " Int64Index([0, 1, 2, 3], dtype='int64')\n",
      "\n",
      " 列标题：\n",
      " Index(['A', 'B', 'C', 'D', 'E', 'F'], dtype='object')\n",
      "\n",
      " 值信息：\n",
      " [[1.0 Timestamp('2013-01-02 00:00:00') 1.0 3 'test' 'foo']\n",
      " [1.0 Timestamp('2013-01-02 00:00:00') 1.0 3 'train' 'foo']\n",
      " [1.0 Timestamp('2013-01-02 00:00:00') 1.0 3 'test' 'foo']\n",
      " [1.0 Timestamp('2013-01-02 00:00:00') 1.0 3 'train' 'foo']]\n",
      "\n",
      " 数据描述：\n",
      "          A    C    D\n",
      "count  4.0  4.0  4.0\n",
      "mean   1.0  1.0  3.0\n",
      "std    0.0  0.0  0.0\n",
      "min    1.0  1.0  3.0\n",
      "25%    1.0  1.0  3.0\n",
      "50%    1.0  1.0  3.0\n",
      "75%    1.0  1.0  3.0\n",
      "max    1.0  1.0  3.0\n",
      "\n",
      " 转置：\n",
      "                      0                    1                    2  \\\n",
      "A                    1                    1                    1   \n",
      "B  2013-01-02 00:00:00  2013-01-02 00:00:00  2013-01-02 00:00:00   \n",
      "C                    1                    1                    1   \n",
      "D                    3                    3                    3   \n",
      "E                 test                train                 test   \n",
      "F                  foo                  foo                  foo   \n",
      "\n",
      "                     3  \n",
      "A                    1  \n",
      "B  2013-01-02 00:00:00  \n",
      "C                    1  \n",
      "D                    3  \n",
      "E                train  \n",
      "F                  foo  \n",
      "\n",
      " 按行逆序排列：\n",
      "      F      E  D    C          B    A\n",
      "0  foo   test  3  1.0 2013-01-02  1.0\n",
      "1  foo  train  3  1.0 2013-01-02  1.0\n",
      "2  foo   test  3  1.0 2013-01-02  1.0\n",
      "3  foo  train  3  1.0 2013-01-02  1.0\n",
      "\n",
      " 按某一列的值排序：\n",
      "      A          B    C  D      E    F\n",
      "0  1.0 2013-01-02  1.0  3   test  foo\n",
      "1  1.0 2013-01-02  1.0  3  train  foo\n",
      "2  1.0 2013-01-02  1.0  3   test  foo\n",
      "3  1.0 2013-01-02  1.0  3  train  foo\n"
     ]
    }
   ],
   "source": [
    "df2 = pd.DataFrame({'A': 1.,\n",
    "                    'B': pd.Timestamp('20130102'),\n",
    "                    'C': pd.Series(1, index=list(range(4)), dtype='float32'),\n",
    "                    'D': np.array([3] * 4, dtype='int32'),\n",
    "                    'E': pd.Categorical([\"test\", \"train\", \"test\", \"train\"]),\n",
    "                    'F': 'foo'})\n",
    "\n",
    "print(\"\\n 生成指定二维矩阵并设置行列标题：\\n\", df2)\n",
    "print(\"\\n 行标题：\\n\", df2.index)\n",
    "print(\"\\n 列标题：\\n\", df2.columns)b\n",
    "print(\"\\n 值信息：\\n\", df2.values)\n",
    "print(\"\\n 数据描述：\\n\", df2.describe())\n",
    "print(\"\\n 转置：\\n\", df2.T)\n",
    "print(\"\\n 按行逆序排列：\\n\", df2.sort_index(axis=1, ascending=False))\n",
    "print(\"\\n 按某一列的值排序：\\n\", df2.sort_values(by='B'))"
   ]
  },
  {
   "cell_type": "markdown",
   "metadata": {},
   "source": [
    "### Pandas 数据选择"
   ]
  },
  {
   "cell_type": "code",
   "execution_count": 9,
   "metadata": {},
   "outputs": [],
   "source": [
    "dates = pd.date_range('20130101', periods=6)\n",
    "df = pd.DataFrame(np.random.randn(6, 4), index=dates, columns=['A', 'B', 'C', 'D'])"
   ]
  },
  {
   "cell_type": "code",
   "execution_count": 10,
   "metadata": {},
   "outputs": [
    {
     "name": "stdout",
     "output_type": "stream",
     "text": [
      "df:                    A         B         C         D\n",
      "2013-01-01  0.384278  0.563643 -0.064643  1.242331\n",
      "2013-01-02  0.291294 -0.243147 -0.824511  1.285801\n",
      "2013-01-03  0.595584  0.080917  0.843154  0.506105\n",
      "2013-01-04  0.714111 -2.690325  0.698047 -0.138562\n",
      "2013-01-05 -0.148739 -1.431588 -1.250028 -1.111583\n",
      "2013-01-06  0.692900  1.264165 -0.415206 -0.757147\n"
     ]
    }
   ],
   "source": [
    "print(\"df:\", df)"
   ]
  },
  {
   "cell_type": "markdown",
   "metadata": {},
   "source": [
    "#### 根据行列选择"
   ]
  },
  {
   "cell_type": "code",
   "execution_count": 11,
   "metadata": {},
   "outputs": [
    {
     "name": "stdout",
     "output_type": "stream",
     "text": [
      "\n",
      " 选择某一列：\n",
      " 2013-01-01    0.384278\n",
      "2013-01-02    0.291294\n",
      "2013-01-03    0.595584\n",
      "2013-01-04    0.714111\n",
      "2013-01-05   -0.148739\n",
      "2013-01-06    0.692900\n",
      "Freq: D, Name: A, dtype: float64 2013-01-01    0.384278\n",
      "2013-01-02    0.291294\n",
      "2013-01-03    0.595584\n",
      "2013-01-04    0.714111\n",
      "2013-01-05   -0.148739\n",
      "2013-01-06    0.692900\n",
      "Freq: D, Name: A, dtype: float64\n",
      "\n",
      " 选择某一行：\n",
      "                    A         B         C         D\n",
      "2013-01-01  0.384278  0.563643 -0.064643  1.242331\n",
      "2013-01-02  0.291294 -0.243147 -0.824511  1.285801\n",
      "2013-01-03  0.595584  0.080917  0.843154  0.506105                    A         B         C         D\n",
      "2013-01-02  0.291294 -0.243147 -0.824511  1.285801\n",
      "2013-01-03  0.595584  0.080917  0.843154  0.506105\n",
      "2013-01-04  0.714111 -2.690325  0.698047 -0.138562\n"
     ]
    }
   ],
   "source": [
    "print(\"\\n 选择某一列：\\n\", df['A'], df.A)\n",
    "print(\"\\n 选择某一行：\\n\", df[0:3], df['20130102':'20130104'])"
   ]
  },
  {
   "cell_type": "markdown",
   "metadata": {},
   "source": [
    "#### 根据标签选择 select by label: loc "
   ]
  },
  {
   "cell_type": "code",
   "execution_count": 12,
   "metadata": {},
   "outputs": [
    {
     "name": "stdout",
     "output_type": "stream",
     "text": [
      "\n",
      " 以标签的名义选择：\n",
      " A    0.291294\n",
      "B   -0.243147\n",
      "C   -0.824511\n",
      "D    1.285801\n",
      "Name: 2013-01-02 00:00:00, dtype: float64\n",
      "\n",
      " 选择所有行 某两列：\n",
      "                    A         B\n",
      "2013-01-01  0.384278  0.563643\n",
      "2013-01-02  0.291294 -0.243147\n",
      "2013-01-03  0.595584  0.080917\n",
      "2013-01-04  0.714111 -2.690325\n",
      "2013-01-05 -0.148739 -1.431588\n",
      "2013-01-06  0.692900  1.264165\n",
      "\n",
      " 选择某一行 某两列：\n",
      " A    0.291294\n",
      "B   -0.243147\n",
      "Name: 2013-01-02 00:00:00, dtype: float64\n"
     ]
    }
   ],
   "source": [
    "print(\"\\n 以标签的名义选择：\\n\", df.loc['20130102'])\n",
    "print(\"\\n 选择所有行 某两列：\\n\", df.loc[:, ['A', 'B']])\n",
    "print(\"\\n 选择某一行 某两列：\\n\", df.loc['20130102', ['A', 'B']])"
   ]
  },
  {
   "cell_type": "markdown",
   "metadata": {},
   "source": [
    "#### 根据位置选择 select by position: iloc "
   ]
  },
  {
   "cell_type": "code",
   "execution_count": 13,
   "metadata": {},
   "outputs": [
    {
     "name": "stdout",
     "output_type": "stream",
     "text": [
      "\n",
      " 选择某一行数据：\n",
      " A    0.714111\n",
      "B   -2.690325\n",
      "C    0.698047\n",
      "D   -0.138562\n",
      "Name: 2013-01-04 00:00:00, dtype: float64\n",
      "\n",
      " 选择某一行数据某一位：\n",
      " -2.690324689161776\n",
      "\n",
      " 切片，选择行列某范围数据：\n",
      "                    A         B\n",
      "2013-01-04  0.714111 -2.690325\n",
      "2013-01-05 -0.148739 -1.431588\n",
      "\n",
      " 逐个筛选：\n",
      "                    A         C\n",
      "2013-01-02  0.291294 -0.824511\n",
      "2013-01-03  0.595584  0.843154\n",
      "2013-01-05 -0.148739 -1.250028\n"
     ]
    }
   ],
   "source": [
    "print(\"\\n 选择某一行数据：\\n\", df.iloc[3])\n",
    "print(\"\\n 选择某一行数据某一位：\\n\", df.iloc[3, 1])\n",
    "print(\"\\n 切片，选择行列某范围数据：\\n\", df.iloc[3:5, 0:2])\n",
    "print(\"\\n 逐个筛选：\\n\", df.iloc[[1, 2, 4], [0, 2]])"
   ]
  },
  {
   "cell_type": "markdown",
   "metadata": {},
   "source": [
    "#### 位置和标签混合筛选 mixed selection: ix "
   ]
  },
  {
   "cell_type": "code",
   "execution_count": 15,
   "metadata": {
    "scrolled": true
   },
   "outputs": [
    {
     "name": "stdout",
     "output_type": "stream",
     "text": [
      "\n",
      " 位置和标签混合筛选：\n",
      "                    A         C\n",
      "2013-01-01  0.384278 -0.064643\n",
      "2013-01-02  0.291294 -0.824511\n",
      "2013-01-03  0.595584  0.843154\n"
     ]
    },
    {
     "name": "stderr",
     "output_type": "stream",
     "text": [
      "C:\\ProgramData\\Anaconda3\\lib\\site-packages\\ipykernel_launcher.py:1: DeprecationWarning: \n",
      ".ix is deprecated. Please use\n",
      ".loc for label based indexing or\n",
      ".iloc for positional indexing\n",
      "\n",
      "See the documentation here:\n",
      "http://pandas.pydata.org/pandas-docs/stable/indexing.html#ix-indexer-is-deprecated\n",
      "  \"\"\"Entry point for launching an IPython kernel.\n"
     ]
    }
   ],
   "source": [
    "print(\"\\n 位置和标签混合筛选：\\n\", df.ix[:3, ['A', 'C']])"
   ]
  },
  {
   "cell_type": "markdown",
   "metadata": {},
   "source": [
    "#### 比较筛选 Boolean indexing"
   ]
  },
  {
   "cell_type": "code",
   "execution_count": 16,
   "metadata": {
    "scrolled": true
   },
   "outputs": [
    {
     "name": "stdout",
     "output_type": "stream",
     "text": [
      "\n",
      " 比较筛选：\n",
      "                    A         B         C         D\n",
      "2013-01-01  0.384278  0.563643 -0.064643  1.242331\n",
      "2013-01-02  0.291294 -0.243147 -0.824511  1.285801\n",
      "2013-01-03  0.595584  0.080917  0.843154  0.506105\n",
      "2013-01-04  0.714111 -2.690325  0.698047 -0.138562\n",
      "2013-01-06  0.692900  1.264165 -0.415206 -0.757147\n"
     ]
    }
   ],
   "source": [
    "print(\"\\n 比较筛选：\\n\", df[df.A > 0])"
   ]
  },
  {
   "cell_type": "markdown",
   "metadata": {},
   "source": [
    "### Pandas 设置值"
   ]
  },
  {
   "cell_type": "code",
   "execution_count": 17,
   "metadata": {},
   "outputs": [
    {
     "name": "stdout",
     "output_type": "stream",
     "text": [
      "                   A         B         C         D\n",
      "2013-01-01  0.193269  0.321133  0.564039  0.792025\n",
      "2013-01-02  0.260250  2.231436 -0.007299 -0.804777\n",
      "2013-01-03  0.668056  1.713257  0.733534 -1.470216\n",
      "2013-01-04  0.702817  0.111031 -0.643776 -1.352658\n",
      "2013-01-05 -0.828930  0.766173  0.269518  0.751904\n",
      "2013-01-06  0.697877  0.438005 -0.554430  0.468898\n"
     ]
    }
   ],
   "source": [
    "dates = pd.date_range('20130101', periods=6)\n",
    "df = pd.DataFrame(np.random.randn(6, 4), index=dates, columns=['A', 'B', 'C', 'D'])\n",
    "print(df)"
   ]
  },
  {
   "cell_type": "markdown",
   "metadata": {},
   "source": [
    "#### 根据位置赋值"
   ]
  },
  {
   "cell_type": "code",
   "execution_count": 18,
   "metadata": {},
   "outputs": [
    {
     "name": "stdout",
     "output_type": "stream",
     "text": [
      "                   A         B            C         D\n",
      "2013-01-01  0.193269  0.321133     0.564039  0.792025\n",
      "2013-01-02  0.260250  2.231436    -0.007299 -0.804777\n",
      "2013-01-03  0.668056  1.713257  1111.000000 -1.470216\n",
      "2013-01-04  0.702817  0.111031    -0.643776 -1.352658\n",
      "2013-01-05 -0.828930  0.766173     0.269518  0.751904\n",
      "2013-01-06  0.697877  0.438005    -0.554430  0.468898\n"
     ]
    }
   ],
   "source": [
    "df.iloc[2, 2] = 1111\n",
    "print(df)"
   ]
  },
  {
   "cell_type": "markdown",
   "metadata": {},
   "source": [
    "#### 根据标签赋值"
   ]
  },
  {
   "cell_type": "code",
   "execution_count": 19,
   "metadata": {},
   "outputs": [
    {
     "name": "stdout",
     "output_type": "stream",
     "text": [
      "                   A         B            C            D\n",
      "2013-01-01  0.193269  0.321133     0.564039     0.792025\n",
      "2013-01-02  0.260250  2.231436    -0.007299    -0.804777\n",
      "2013-01-03  0.668056  1.713257  1111.000000  2222.000000\n",
      "2013-01-04  0.702817  0.111031    -0.643776    -1.352658\n",
      "2013-01-05 -0.828930  0.766173     0.269518     0.751904\n",
      "2013-01-06  0.697877  0.438005    -0.554430     0.468898\n"
     ]
    }
   ],
   "source": [
    "df.loc['2013-01-03', 'D'] = 2222\n",
    "print(df)"
   ]
  },
  {
   "cell_type": "markdown",
   "metadata": {},
   "source": [
    "#### 根据运算赋值"
   ]
  },
  {
   "cell_type": "code",
   "execution_count": null,
   "metadata": {},
   "outputs": [],
   "source": [
    "df[df.A > 0] = 0  # A列大于0所在的行，所有数值都设置为0\n",
    "df.A[df.A > 0] = 0  # A列大于0的值设置为0\n",
    "print(df)"
   ]
  },
  {
   "cell_type": "markdown",
   "metadata": {},
   "source": [
    "#### 添加空列"
   ]
  },
  {
   "cell_type": "code",
   "execution_count": 20,
   "metadata": {},
   "outputs": [
    {
     "name": "stdout",
     "output_type": "stream",
     "text": [
      "                   A         B            C            D   F\n",
      "2013-01-01  0.193269  0.321133     0.564039     0.792025 NaN\n",
      "2013-01-02  0.260250  2.231436    -0.007299    -0.804777 NaN\n",
      "2013-01-03  0.668056  1.713257  1111.000000  2222.000000 NaN\n",
      "2013-01-04  0.702817  0.111031    -0.643776    -1.352658 NaN\n",
      "2013-01-05 -0.828930  0.766173     0.269518     0.751904 NaN\n",
      "2013-01-06  0.697877  0.438005    -0.554430     0.468898 NaN\n"
     ]
    }
   ],
   "source": [
    "df['F'] = np.nan\n",
    "print(df)"
   ]
  },
  {
   "cell_type": "markdown",
   "metadata": {},
   "source": [
    "#### 添加非空列"
   ]
  },
  {
   "cell_type": "code",
   "execution_count": 21,
   "metadata": {},
   "outputs": [
    {
     "name": "stdout",
     "output_type": "stream",
     "text": [
      "                   A         B            C            D   F  G\n",
      "2013-01-01  0.193269  0.321133     0.564039     0.792025 NaN  1\n",
      "2013-01-02  0.260250  2.231436    -0.007299    -0.804777 NaN  2\n",
      "2013-01-03  0.668056  1.713257  1111.000000  2222.000000 NaN  3\n",
      "2013-01-04  0.702817  0.111031    -0.643776    -1.352658 NaN  4\n",
      "2013-01-05 -0.828930  0.766173     0.269518     0.751904 NaN  5\n",
      "2013-01-06  0.697877  0.438005    -0.554430     0.468898 NaN  6\n"
     ]
    }
   ],
   "source": [
    "df['G'] = pd.Series([1, 2, 3, 4, 5, 6], index=pd.date_range('20130101', periods=6))\n",
    "print(df)"
   ]
  },
  {
   "cell_type": "markdown",
   "metadata": {},
   "source": [
    "### Pandas 处理丢失数据"
   ]
  },
  {
   "cell_type": "code",
   "execution_count": 23,
   "metadata": {},
   "outputs": [
    {
     "name": "stdout",
     "output_type": "stream",
     "text": [
      "             A     B     C   D\n",
      "2013-01-01   0   NaN   2.0   3\n",
      "2013-01-02   4   5.0   NaN   7\n",
      "2013-01-03   8   9.0  10.0  11\n",
      "2013-01-04  12  13.0  14.0  15\n",
      "2013-01-05  16  17.0  18.0  19\n",
      "2013-01-06  20  21.0  22.0  23\n"
     ]
    }
   ],
   "source": [
    "dates = pd.date_range('20130101', periods=6)\n",
    "df = pd.DataFrame(np.arange(24).reshape((6, 4)), index=dates, columns=['A', 'B', 'C', 'D'])\n",
    "\n",
    "df.iloc[0, 1] = np.nan\n",
    "df.iloc[1, 2] = np.nan\n",
    "print(df)"
   ]
  },
  {
   "cell_type": "markdown",
   "metadata": {},
   "source": [
    "#### 按行丢弃数据"
   ]
  },
  {
   "cell_type": "code",
   "execution_count": 24,
   "metadata": {},
   "outputs": [
    {
     "name": "stdout",
     "output_type": "stream",
     "text": [
      "             A     B     C   D\n",
      "2013-01-03   8   9.0  10.0  11\n",
      "2013-01-04  12  13.0  14.0  15\n",
      "2013-01-05  16  17.0  18.0  19\n",
      "2013-01-06  20  21.0  22.0  23\n",
      "             A     B     C   D\n",
      "2013-01-01   0   NaN   2.0   3\n",
      "2013-01-02   4   5.0   NaN   7\n",
      "2013-01-03   8   9.0  10.0  11\n",
      "2013-01-04  12  13.0  14.0  15\n",
      "2013-01-05  16  17.0  18.0  19\n",
      "2013-01-06  20  21.0  22.0  23\n"
     ]
    }
   ],
   "source": [
    "print(df.dropna(axis=0, how='any'))  # 一行中有任何一个数据为nan则丢弃一行\n",
    "print(df.dropna(axis=0, how='all'))  # 一行所有数据为nan则丢弃一行"
   ]
  },
  {
   "cell_type": "markdown",
   "metadata": {},
   "source": [
    "#### nan数据置为0"
   ]
  },
  {
   "cell_type": "code",
   "execution_count": 25,
   "metadata": {},
   "outputs": [
    {
     "name": "stdout",
     "output_type": "stream",
     "text": [
      "             A     B     C   D\n",
      "2013-01-01   0   0.0   2.0   3\n",
      "2013-01-02   4   5.0   0.0   7\n",
      "2013-01-03   8   9.0  10.0  11\n",
      "2013-01-04  12  13.0  14.0  15\n",
      "2013-01-05  16  17.0  18.0  19\n",
      "2013-01-06  20  21.0  22.0  23\n"
     ]
    }
   ],
   "source": [
    "print(df.fillna(value=0))  "
   ]
  },
  {
   "cell_type": "markdown",
   "metadata": {},
   "source": [
    "#### 判断哪一个有缺失值"
   ]
  },
  {
   "cell_type": "code",
   "execution_count": 26,
   "metadata": {},
   "outputs": [
    {
     "name": "stdout",
     "output_type": "stream",
     "text": [
      "                A      B      C      D\n",
      "2013-01-01  False   True  False  False\n",
      "2013-01-02  False  False   True  False\n",
      "2013-01-03  False  False  False  False\n",
      "2013-01-04  False  False  False  False\n",
      "2013-01-05  False  False  False  False\n",
      "2013-01-06  False  False  False  False\n"
     ]
    }
   ],
   "source": [
    "print(pd.isnull(df))  "
   ]
  },
  {
   "cell_type": "markdown",
   "metadata": {},
   "source": [
    "#### 判断是否有缺失值"
   ]
  },
  {
   "cell_type": "code",
   "execution_count": 27,
   "metadata": {},
   "outputs": [
    {
     "name": "stdout",
     "output_type": "stream",
     "text": [
      "True\n"
     ]
    }
   ],
   "source": [
    "print(np.any(pd.isnull(df))==True)  "
   ]
  },
  {
   "cell_type": "markdown",
   "metadata": {},
   "source": []
  }
 ],
 "metadata": {
  "kernelspec": {
   "display_name": "Python 3",
   "language": "python",
   "name": "python3"
  },
  "language_info": {
   "codemirror_mode": {
    "name": "ipython",
    "version": 3
   },
   "file_extension": ".py",
   "mimetype": "text/x-python",
   "name": "python",
   "nbconvert_exporter": "python",
   "pygments_lexer": "ipython3",
   "version": "3.6.8"
  },
  "toc": {
   "base_numbering": 1,
   "nav_menu": {},
   "number_sections": true,
   "sideBar": true,
   "skip_h1_title": false,
   "title_cell": "Table of Contents",
   "title_sidebar": "Contents",
   "toc_cell": false,
   "toc_position": {},
   "toc_section_display": true,
   "toc_window_display": false
  }
 },
 "nbformat": 4,
 "nbformat_minor": 2
}
